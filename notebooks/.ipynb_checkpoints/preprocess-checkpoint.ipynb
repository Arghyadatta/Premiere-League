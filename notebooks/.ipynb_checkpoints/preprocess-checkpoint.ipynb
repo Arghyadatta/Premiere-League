{
 "cells": [
  {
   "cell_type": "code",
   "execution_count": 1,
   "metadata": {
    "scrolled": true
   },
   "outputs": [
    {
     "name": "stdout",
     "output_type": "stream",
     "text": [
      "/home/arghya/projects/champions_league_predictions\n"
     ]
    }
   ],
   "source": [
    "cd .."
   ]
  },
  {
   "cell_type": "code",
   "execution_count": 2,
   "metadata": {},
   "outputs": [],
   "source": [
    "# import dependencies\n",
    "import numpy as np\n",
    "import pandas as pd\n",
    "import csv\n",
    "from sklearn.utils import shuffle"
   ]
  },
  {
   "cell_type": "code",
   "execution_count": 8,
   "metadata": {},
   "outputs": [],
   "source": [
    "#import player stats and historical results for european clubs\n",
    "data_path = 'data/'\n",
    "\n",
    "#load player dataset\n",
    "\n",
    "player_dataset=pd.read_csv(data_path+'CompleteDataset.csv',delimiter=',')\n",
    "epl_clubs=['Manchester City', 'Liverpool', 'Tottenham Hotspur', 'Chelsea', 'Arsenal', 'Everton', \n",
    "           'Bournemouth', 'Manchester United', 'Leicester City','Brighton & Hove Albion', 'Watford', \n",
    "           'Wolverhampton Wanderers', 'West Ham United', 'Newcastle United', 'Crystal Palace',\n",
    "           'Cardiff City', 'Huddersfield Town', 'Southampton', 'Burnley', 'Fulham']\n",
    "\n",
    "#convert club names to lower case\n",
    "for i in range(0,len(epl_clubs)):\n",
    "    epl_clubs[i]=epl_clubs[i].lower()\n",
    "\n",
    "#drop columns that are not required\n",
    "player_dataset.drop(labels = ['Unnamed: 0', 'Age', 'Photo', 'Flag', 'Club Logo', 'Wage'], axis = 1, inplace = True)\n",
    "\n",
    "#keeping clubs that are present in the premiere league\n",
    "player_dataset['Club']=player_dataset['Club'].str.lower()\n",
    "player_dataset = player_dataset[player_dataset['Club'].isin(epl_clubs)]\n",
    "\n",
    "#Adding preferred position and remaining potential\n",
    "player_dataset['Preferred Position'] = player_dataset['Preferred Positions'].str.split().str[0]\n",
    "player_dataset['Remaining Potential'] = player_dataset['Potential'] - player_dataset['Overall']\n",
    "\n",
    "# Loading and manipulating old league data\n",
    "old_data = pd.read_csv(data_path+'merged_all.csv',delimiter=',')\n",
    "old_data['Team 1']=old_data['Team 1'].str[:-3]\n",
    "old_data['Team 2']=old_data['Team 2'].str[:-3]\n",
    "old_data['Home_team_score']=old_data['FT'].str[0]\n",
    "old_data['Away_team_score']=old_data['FT'].str[-1]\n",
    "old_data.drop(labels=['Round','Date','HT','FT'],axis=1,inplace=True)\n",
    "\n",
    "#saving processed fifa dataset with EPL clubs and prior match results\n",
    "\n",
    "player_dataset.to_csv(data_path+'fifa_dataset_processed.tsv',sep='\\t')\n",
    "old_data.to_csv(data_path+'prior_fixtures.tsv',sep='\\t')"
   ]
  },
  {
   "cell_type": "code",
   "execution_count": null,
   "metadata": {},
   "outputs": [],
   "source": []
  },
  {
   "cell_type": "code",
   "execution_count": null,
   "metadata": {
    "scrolled": true
   },
   "outputs": [],
   "source": []
  },
  {
   "cell_type": "code",
   "execution_count": null,
   "metadata": {},
   "outputs": [],
   "source": []
  },
  {
   "cell_type": "code",
   "execution_count": null,
   "metadata": {},
   "outputs": [],
   "source": []
  },
  {
   "cell_type": "code",
   "execution_count": null,
   "metadata": {},
   "outputs": [],
   "source": []
  }
 ],
 "metadata": {
  "kernelspec": {
   "display_name": "Python 2",
   "language": "python",
   "name": "python2"
  },
  "language_info": {
   "codemirror_mode": {
    "name": "ipython",
    "version": 2
   },
   "file_extension": ".py",
   "mimetype": "text/x-python",
   "name": "python",
   "nbconvert_exporter": "python",
   "pygments_lexer": "ipython2",
   "version": "2.7.15rc1"
  }
 },
 "nbformat": 4,
 "nbformat_minor": 2
}
