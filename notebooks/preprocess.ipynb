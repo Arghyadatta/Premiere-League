{
 "cells": [
  {
   "cell_type": "code",
   "execution_count": 1,
   "metadata": {
    "collapsed": false,
    "deletable": true,
    "editable": true,
    "scrolled": true
   },
   "outputs": [
    {
     "name": "stdout",
     "output_type": "stream",
     "text": [
      "/home/arghya/sandbox/projects/champions_league_predictions\n"
     ]
    }
   ],
   "source": [
    "cd .."
   ]
  },
  {
   "cell_type": "code",
   "execution_count": 2,
   "metadata": {
    "collapsed": true,
    "deletable": true,
    "editable": true
   },
   "outputs": [],
   "source": [
    "# import dependencies\n",
    "import numpy as np\n",
    "import pandas as pd\n",
    "import csv\n",
    "from sklearn.utils import shuffle"
   ]
  },
  {
   "cell_type": "code",
   "execution_count": 3,
   "metadata": {
    "collapsed": false,
    "deletable": true,
    "editable": true
   },
   "outputs": [
    {
     "name": "stderr",
     "output_type": "stream",
     "text": [
      "/usr/local/lib/python2.7/dist-packages/IPython/core/interactiveshell.py:2717: DtypeWarning: Columns (23,35) have mixed types. Specify dtype option on import or set low_memory=False.\n",
      "  interactivity=interactivity, compiler=compiler, result=result)\n"
     ]
    }
   ],
   "source": [
    "#import player stats and historical results for european clubs\n",
    "data_path = 'data/'\n",
    "\n",
    "#load player dataset\n",
    "\n",
    "player_dataset=pd.read_csv(data_path+'CompleteDataset.csv',delimiter=',')\n",
    "epl_clubs=['Manchester City', 'Liverpool', 'Tottenham Hotspur', 'Chelsea', 'Arsenal', 'Everton', \n",
    "           'Bournemouth', 'Manchester United', 'Leicester City','Brighton & Hove Albion', 'Watford', \n",
    "           'Wolverhampton Wanderers', 'West Ham United', 'Newcastle United', 'Crystal Palace',\n",
    "           'Cardiff City', 'Huddersfield Town', 'Southampton', 'Burnley', 'Fulham']\n",
    "\n",
    "#convert club names to lower case\n",
    "for i in range(0,len(epl_clubs)):\n",
    "    epl_clubs[i]=epl_clubs[i].lower()\n",
    "\n",
    "#drop columns that are not required\n",
    "player_dataset.drop(labels = ['Unnamed: 0', 'Age', 'Photo', 'Flag', 'Club Logo', 'Wage'], axis = 1, inplace = True)\n",
    "\n",
    "#keeping clubs that are present in the premiere league\n",
    "player_dataset['Club']=player_dataset['Club'].str.lower()\n",
    "player_dataset = player_dataset[player_dataset['Club'].isin(epl_clubs)]\n",
    "\n",
    "#Adding preferred position and remaining potential\n",
    "player_dataset['Preferred Position'] = player_dataset['Preferred Positions'].str.split().str[0]\n",
    "player_dataset['Remaining Potential'] = player_dataset['Potential'] - player_dataset['Overall']\n",
    "\n",
    "# Loading and manipulating old league data\n",
    "old_data = pd.read_csv(data_path+'merged_all.csv',delimiter=',')\n",
    "old_data=old_data[old_data.FT!='FT']\n",
    "old_data['Team 1']=old_data['Team 1'].str[:-7]\n",
    "old_data['Team 2']=old_data['Team 2'].str[:-7]\n",
    "old_data['home_score']=old_data['FT'].str[0]\n",
    "old_data['away_score']=old_data['FT'].str[-1]\n",
    "old_data['Team 1']=old_data['Team 1'].str.lower()\n",
    "old_data['Team 2']=old_data['Team 2'].str.lower()\n",
    "old_data['home_team']=old_data['Team 1']\n",
    "old_data['away_team']=old_data['Team 2']\n",
    "old_data.home_score=old_data.home_score.astype('float')\n",
    "old_data.away_score=old_data.away_score.astype('float')\n",
    "\n",
    "old_data.drop(labels=['Round','Date','HT','FT','Team 1','Team 2'],axis=1,inplace=True)\n",
    "#saving processed fifa dataset with EPL clubs and prior match results\n",
    "\n",
    "player_dataset.to_csv(data_path+'fifa_dataset_processed.tsv',sep='\\t')\n",
    "old_data.to_csv(data_path+'prior_fixtures.tsv',sep='\\t')\n"
   ]
  },
  {
   "cell_type": "code",
   "execution_count": 27,
   "metadata": {
    "collapsed": false,
    "deletable": true,
    "editable": true
   },
   "outputs": [],
   "source": [
    "mean_home_goals=old_data.groupby('home_team')['home_score'].mean().to_frame()\n",
    "mean_away_goals=old_data.groupby('away_team')['away_score'].mean().to_frame()\n",
    "df = pd.concat([mean_away_goals,mean_home_goals],axis=1)\n",
    "df['advantage']=df.home_score - df.away_score\n",
    "df.to_csv('data/home_advantage.tsv',sep='\\t')\n"
   ]
  },
  {
   "cell_type": "code",
   "execution_count": 18,
   "metadata": {
    "collapsed": false,
    "deletable": true,
    "editable": true,
    "scrolled": true
   },
   "outputs": [],
   "source": []
  },
  {
   "cell_type": "code",
   "execution_count": 20,
   "metadata": {
    "collapsed": false,
    "deletable": true,
    "editable": true
   },
   "outputs": [],
   "source": []
  },
  {
   "cell_type": "code",
   "execution_count": null,
   "metadata": {
    "collapsed": false,
    "deletable": true,
    "editable": true
   },
   "outputs": [],
   "source": []
  },
  {
   "cell_type": "code",
   "execution_count": null,
   "metadata": {
    "collapsed": false,
    "deletable": true,
    "editable": true
   },
   "outputs": [],
   "source": []
  },
  {
   "cell_type": "code",
   "execution_count": null,
   "metadata": {
    "collapsed": true
   },
   "outputs": [],
   "source": []
  }
 ],
 "metadata": {
  "kernelspec": {
   "display_name": "Python 2",
   "language": "python",
   "name": "python2"
  },
  "language_info": {
   "codemirror_mode": {
    "name": "ipython",
    "version": 2
   },
   "file_extension": ".py",
   "mimetype": "text/x-python",
   "name": "python",
   "nbconvert_exporter": "python",
   "pygments_lexer": "ipython2",
   "version": "2.7.6"
  }
 },
 "nbformat": 4,
 "nbformat_minor": 2
}
